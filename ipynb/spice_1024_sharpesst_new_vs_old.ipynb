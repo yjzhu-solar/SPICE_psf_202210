{
 "cells": [
  {
   "cell_type": "code",
   "execution_count": 1,
   "metadata": {},
   "outputs": [],
   "source": [
    "import numpy as np\n",
    "import matplotlib.pyplot as plt\n",
    "import h5py"
   ]
  },
  {
   "cell_type": "code",
   "execution_count": null,
   "metadata": {},
   "outputs": [],
   "source": [
    "with h5py.File(\"../sav/sharpesst_vs_old/spice_fits_1024_sharpesst_new.h5\",\"w\") as f:\n",
    "    for key in spice_corr_fits.keys():\n",
    "        f.create_dataset(key, data=spice_corr_fits[key])\n",
    "\n",
    "with h5py.File(\"../sav/sharpesst_vs_old/spice_fits_1024_original_new.h5\",\"w\") as f:\n",
    "    for key in spice_fits.keys():\n",
    "        f.create_dataset(key, data=spice_fits[key])\n",
    "\n",
    "with h5py.File(\"../sav/sharpesst_vs_old/spice_corr_dat_1024_new.h5\",\"w\") as f:\n",
    "    f.create_dataset(\"spice_corr_dat\", data=spice_corr_dat)\n",
    "\n",
    "with h5py.File(\"../sav/sharpesst_vs_old/spice_dat_1024_original.h5\",\"w\") as f:\n",
    "    f.create_dataset(\"spice_dat\", data=spice_dat1)\n",
    "\n",
    "with h5py.File(\"../sav/sharpesst_vs_old/spice_fits_1024_sharpesst_old.h5\",\"w\") as f:\n",
    "    for key in spice_corr_fits.keys():\n",
    "        f.create_dataset(key, data=spice_corr_fits[key])\n",
    "\n",
    "with h5py.File(\"../sav/sharpesst_vs_old/spice_corr_dat_1024_old.h5\",\"w\") as f:\n",
    "    f.create_dataset(\"spice_corr_dat\", data=spice_corr_dat)\n"
   ]
  },
  {
   "cell_type": "code",
   "execution_count": 6,
   "metadata": {},
   "outputs": [],
   "source": [
    "with h5py.File(\"../sav/sharpesst_vs_old/spice_fits_1024_sharpesst_new.h5\",\"r\") as f:\n",
    "    spice_corr_new_amplitudes = f[\"amplitudes\"][()]\n",
    "    spice_corr_new_centers = f[\"centers\"][()]\n",
    "    spice_corr_new_widths = f[\"sigmas\"][()]\n",
    "    spice_corr_new_continuum = f[\"continuum\"][()]"
   ]
  },
  {
   "cell_type": "code",
   "execution_count": 7,
   "metadata": {},
   "outputs": [],
   "source": [
    "with h5py.File(\"../sav/sharpesst_vs_old/spice_fits_1024_original_new.h5\",\"r\") as f:\n",
    "    spice_original_amplitudes = f[\"amplitudes\"][()]\n",
    "    spice_original_centers = f[\"centers\"][()]\n",
    "    spice_original_widths = f[\"sigmas\"][()]\n",
    "    spice_original_continuum = f[\"continuum\"][()]"
   ]
  },
  {
   "cell_type": "code",
   "execution_count": 10,
   "metadata": {},
   "outputs": [],
   "source": [
    "with h5py.File(\"../sav/sharpesst_vs_old/spice_fits_1024_sharpesst_old.h5\",\"r\") as f:\n",
    "    spice_corr_old_amplitudes = f[\"amplitudes\"][()]\n",
    "    spice_corr_old_centers = f[\"centers\"][()]\n",
    "    spice_corr_old_widths = f[\"sigmas\"][()]\n",
    "    spice_corr_old_continuum = f[\"continuum\"][()]"
   ]
  },
  {
   "cell_type": "code",
   "execution_count": 8,
   "metadata": {},
   "outputs": [],
   "source": [
    "with h5py.File(\"../sav/sharpesst_vs_old/spice_corr_dat_1024_new.h5\",\"r\") as f:\n",
    "    spice_corr_dat_new = f[\"spice_corr_dat\"][()]"
   ]
  },
  {
   "cell_type": "code",
   "execution_count": 9,
   "metadata": {},
   "outputs": [],
   "source": [
    "with h5py.File(\"../sav/sharpesst_vs_old/spice_dat_1024_original.h5\",\"r\") as f:\n",
    "    spice_dat = f[\"spice_dat\"][()]"
   ]
  },
  {
   "cell_type": "code",
   "execution_count": 11,
   "metadata": {},
   "outputs": [],
   "source": [
    "with h5py.File(\"../sav/sharpesst_vs_old/spice_corr_dat_1024_old.h5\",\"r\") as f:\n",
    "    spice_corr_dat_old = f[\"spice_corr_dat\"][()]"
   ]
  },
  {
   "cell_type": "code",
   "execution_count": null,
   "metadata": {},
   "outputs": [],
   "source": []
  }
 ],
 "metadata": {
  "kernelspec": {
   "display_name": "sunpy",
   "language": "python",
   "name": "python3"
  },
  "language_info": {
   "codemirror_mode": {
    "name": "ipython",
    "version": 3
   },
   "file_extension": ".py",
   "mimetype": "text/x-python",
   "name": "python",
   "nbconvert_exporter": "python",
   "pygments_lexer": "ipython3",
   "version": "3.11.7"
  }
 },
 "nbformat": 4,
 "nbformat_minor": 2
}
